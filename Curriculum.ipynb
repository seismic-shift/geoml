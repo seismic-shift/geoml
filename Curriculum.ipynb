{
 "cells": [
  {
   "cell_type": "markdown",
   "metadata": {
    "nbpresent": {
     "id": "601d0118-f7de-409d-a353-81c531c65795"
    }
   },
   "source": [
    "# Machine Learning for Geos course\n",
    "\n",
    "The course is spread over five half-days:"
   ]
  },
  {
   "cell_type": "markdown",
   "metadata": {
    "nbpresent": {
     "id": "26a3f466-2dad-46ce-8fb2-ea66682f393c"
    }
   },
   "source": [
    "## Day 1. Introduction to machine learning\n",
    "\n",
    "- Get everyone set up\n",
    "- Check in\n",
    "- [**Intro to classification**](notebooks/Intro_to_classification.ipynb)\n",
    "- [**Pandas for machine learning**](notebooks/Pandas_for_machine_learning.ipynb)\n",
    "- If we have time, we can also look at [**Intro to regression**](notebooks/Intro_to_regression.ipynb) or  [**Binary_classification**](notebooks/Binary_classification.ipynb)\n",
    "- Projects\n",
    "- Check out"
   ]
  },
  {
   "cell_type": "markdown",
   "metadata": {
    "nbpresent": {
     "id": "26a3f466-2dad-46ce-8fb2-ea66682f393c"
    }
   },
   "source": [
    "## Day 2. Classification with Scikit-Learn, part 1\n",
    "\n",
    "- Check in\n",
    "- [**Multiclass classification**](notebooks/Multiclass_classification.ipynb)\n",
    "- Check out\n",
    "\n",
    "\n",
    "## Day 3. Classification with Scikit-Learn, part 2\n",
    "\n",
    "- Check in\n",
    "- [**Multiclass classification**](notebooks/Multiclass_classification.ipynb)\n",
    "- If we have time, we can also look at [**Intro to regression**](notebooks/Intro_to_regression.ipynb) or  [**Binary_classification**](notebooks/Binary_classification.ipynb)\n",
    "- Projects\n",
    "- Check out"
   ]
  },
  {
   "cell_type": "markdown",
   "metadata": {
    "nbpresent": {
     "id": "26a3f466-2dad-46ce-8fb2-ea66682f393c"
    }
   },
   "source": [
    "## Day 4. Neural networks from scratch\n",
    "\n",
    "- Check in\n",
    "- [**Intro to regression**](notebooks/Intro_to_regression.ipynb) if we haven't done it yet\n",
    "- [**A basic neural network from scratch**](notebooks/Intro_to_neural_networks.ipynb) (optional)\n",
    "- [**Intro to image classification**](notebooks/Intro_to_image_classification.ipynb)\n",
    "- Projects\n",
    "- Check out"
   ]
  },
  {
   "cell_type": "markdown",
   "metadata": {},
   "source": [
    "## Day 5. Image classification\n",
    "\n",
    "- Check in\n",
    "- If we're not on the neural network track, we'll look at gridding map data and unsupervised learning\n",
    "- [**Image classification with PyTorch**](notebooks/Image_classification_with_PyTorch.ipynb)\n",
    "- [**Transfer learning RESNET with PyTorch on Colab**](notebooks/Transfer_learning_RESNET_with_PyTorch_on_Colab.ipynb)\n",
    "- Projects\n",
    "- Check out"
   ]
  },
  {
   "cell_type": "markdown",
   "metadata": {},
   "source": [
    "## Overflow\n",
    "\n",
    "If we have time, there's plenty of other stuff we can look at.\n",
    "\n",
    "- [Transfer learning mobilenet with Fastai](notebooks/Transfer_learning_Mobilenet_with_Fastai.ipynb)\n",
    "- [Unsupervised learning](notebooks/Unsupervised_clustering_on_rock_properties.ipynb)\n",
    "- [Gridding map data](notebooks/Gridding_map_data.ipynb) as a machine learning task\n",
    "- [Semantic segmentation](notebooks/Semantic_segmentation_with_U-Net.ipynb)\n",
    "- [Pandas for timeseries](notebooks/Pandas_for_timeseries.ipynb), and Time series forecasting\n",
    "- Natural language processing: [Latent semantic analysis](notebooks/Latent_semantic_analysis.ipynb)\n",
    "- Deployment, e.g. [Requests from geofignet API](notebooks/Requests_from_geofignet_API.ipynb)"
   ]
  },
  {
   "cell_type": "markdown",
   "metadata": {},
   "source": [
    "----\n",
    "\n",
    "&copy; Agile Scientific 2020"
   ]
  }
 ],
 "metadata": {
  "anaconda-cloud": {},
  "kernelspec": {
   "display_name": "Python 3",
   "language": "python",
   "name": "python3"
  },
  "language_info": {
   "codemirror_mode": {
    "name": "ipython",
    "version": 3
   },
   "file_extension": ".py",
   "mimetype": "text/x-python",
   "name": "python",
   "nbconvert_exporter": "python",
   "pygments_lexer": "ipython3",
   "version": "3.8.5"
  }
 },
 "nbformat": 4,
 "nbformat_minor": 1
}
