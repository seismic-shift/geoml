{
 "cells": [
  {
   "cell_type": "code",
   "execution_count": 1,
   "id": "5ef4ad5e-4b3d-44ce-b387-60daddc28920",
   "metadata": {},
   "outputs": [
    {
     "data": {
      "text/plain": [
       "5"
      ]
     },
     "execution_count": 1,
     "metadata": {},
     "output_type": "execute_result"
    }
   ],
   "source": [
    "(lambda a: a + 1)(4)"
   ]
  },
  {
   "cell_type": "code",
   "execution_count": 3,
   "id": "bbcebc2a-4796-4b3f-8ded-520dd899af3a",
   "metadata": {},
   "outputs": [],
   "source": [
    "add_one = lambda a: a + 1"
   ]
  },
  {
   "cell_type": "code",
   "execution_count": 5,
   "id": "e3d79b89-3477-4c2a-bd6d-b194da337050",
   "metadata": {},
   "outputs": [
    {
     "data": {
      "text/plain": [
       "7"
      ]
     },
     "execution_count": 5,
     "metadata": {},
     "output_type": "execute_result"
    }
   ],
   "source": [
    "add_one(6)"
   ]
  },
  {
   "cell_type": "code",
   "execution_count": 6,
   "id": "ac557f0b-1e7f-45c3-9047-777cd7c49e81",
   "metadata": {},
   "outputs": [
    {
     "data": {
      "text/plain": [
       "11"
      ]
     },
     "execution_count": 6,
     "metadata": {},
     "output_type": "execute_result"
    }
   ],
   "source": [
    "(lambda x, y: x + y)(5, 6)"
   ]
  },
  {
   "cell_type": "code",
   "execution_count": 7,
   "id": "c64c575e-642e-4a4c-b35f-36871779e6b9",
   "metadata": {},
   "outputs": [],
   "source": [
    "data = [5, 1, 87, 2, 56, 32, 4, 2]"
   ]
  },
  {
   "cell_type": "code",
   "execution_count": 8,
   "id": "86463860-bb26-41ea-89c1-aff2a4ab5977",
   "metadata": {},
   "outputs": [
    {
     "data": {
      "text/plain": [
       "[5, 87, 56, 32]"
      ]
     },
     "execution_count": 8,
     "metadata": {},
     "output_type": "execute_result"
    }
   ],
   "source": [
    "list(filter(lambda x: x>4, data))"
   ]
  },
  {
   "cell_type": "code",
   "execution_count": 9,
   "id": "00b67f6f-67d8-4f4f-b444-968159ed18cd",
   "metadata": {},
   "outputs": [
    {
     "ename": "TypeError",
     "evalue": "can't multiply sequence by non-int of type 'list'",
     "output_type": "error",
     "traceback": [
      "\u001b[0;31m---------------------------------------------------------------------------\u001b[0m",
      "\u001b[0;31mTypeError\u001b[0m                                 Traceback (most recent call last)",
      "\u001b[0;32m/tmp/ipykernel_21819/2802353334.py\u001b[0m in \u001b[0;36m<module>\u001b[0;34m\u001b[0m\n\u001b[0;32m----> 1\u001b[0;31m \u001b[0mdata\u001b[0m \u001b[0;34m*\u001b[0m \u001b[0mdata\u001b[0m\u001b[0;34m\u001b[0m\u001b[0;34m\u001b[0m\u001b[0m\n\u001b[0m",
      "\u001b[0;31mTypeError\u001b[0m: can't multiply sequence by non-int of type 'list'"
     ]
    }
   ],
   "source": [
    "data * data"
   ]
  },
  {
   "cell_type": "code",
   "execution_count": 10,
   "id": "aa98826f-9b3f-406f-9711-8f823227a5b6",
   "metadata": {},
   "outputs": [
    {
     "data": {
      "text/plain": [
       "[25, 1, 7569, 4, 3136, 1024, 16, 4]"
      ]
     },
     "execution_count": 10,
     "metadata": {},
     "output_type": "execute_result"
    }
   ],
   "source": [
    "list(map(lambda x: x * x, data))"
   ]
  },
  {
   "cell_type": "code",
   "execution_count": 11,
   "id": "43330aa3-5051-463f-9509-80429bf5f3e3",
   "metadata": {},
   "outputs": [],
   "source": [
    "from functools import reduce"
   ]
  },
  {
   "cell_type": "code",
   "execution_count": 12,
   "id": "51d282b5-aa68-4129-8738-1591c1f3e16a",
   "metadata": {},
   "outputs": [
    {
     "data": {
      "text/plain": [
       "[5, 1, 87, 2, 56, 32, 4, 2]"
      ]
     },
     "execution_count": 12,
     "metadata": {},
     "output_type": "execute_result"
    }
   ],
   "source": [
    "data"
   ]
  },
  {
   "cell_type": "code",
   "execution_count": null,
   "id": "4c26106e-b826-4ca5-95bf-7380a59e4361",
   "metadata": {},
   "outputs": [],
   "source": [
    "reduce"
   ]
  }
 ],
 "metadata": {
  "kernelspec": {
   "display_name": "geoml",
   "language": "python",
   "name": "geoml"
  },
  "language_info": {
   "codemirror_mode": {
    "name": "ipython",
    "version": 3
   },
   "file_extension": ".py",
   "mimetype": "text/x-python",
   "name": "python",
   "nbconvert_exporter": "python",
   "pygments_lexer": "ipython3",
   "version": "3.9.6"
  }
 },
 "nbformat": 4,
 "nbformat_minor": 5
}
